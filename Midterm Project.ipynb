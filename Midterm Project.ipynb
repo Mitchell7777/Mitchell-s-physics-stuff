{
  "nbformat": 4,
  "nbformat_minor": 0,
  "metadata": {
    "colab": {
      "provenance": [],
      "authorship_tag": "ABX9TyMo7o0yhnaRNf/4hjKDP8BE",
      "include_colab_link": true
    },
    "kernelspec": {
      "name": "python3",
      "display_name": "Python 3"
    },
    "language_info": {
      "name": "python"
    },
    "widgets": {
      "application/vnd.jupyter.widget-state+json": {
        "dbb205f52cd549e2b40f664bf646dc3d": {
          "model_module": "itkwidgets",
          "model_name": "ViewerModel",
          "model_module_version": "^0.32.3",
          "state": {
            "_custom_cmap": null,
            "_dom_classes": [],
            "_downsampling": false,
            "_largest_roi": {
              "shape": [
                2,
                3
              ],
              "dtype": "float64"
            },
            "_model_module": "itkwidgets",
            "_model_module_version": "^0.32.3",
            "_model_name": "ViewerModel",
            "_rendering_image": false,
            "_reset_crop_requested": false,
            "_scale_factors": {
              "shape": [
                3
              ],
              "dtype": "uint8"
            },
            "_view_count": null,
            "_view_module": "itkwidgets",
            "_view_module_version": "^0.32.3",
            "_view_name": "ViewerView",
            "annotations": true,
            "axes": false,
            "background": [
              0.2196078431372549,
              0.2196078431372549,
              0.2196078431372549
            ],
            "blend_mode": "composite",
            "camera": {
              "shape": [
                3,
                3
              ],
              "dtype": "float32"
            },
            "channels": [],
            "clicked_slice_point": null,
            "cmap": null,
            "geometries": [
              {
                "vtkClass": "vtkPolyData",
                "points": {
                  "vtkClass": "vtkPoints",
                  "name": "_points",
                  "numberOfComponents": 3,
                  "dataType": "Float32Array",
                  "size": 63231
                },
                "polys": {
                  "vtkClass": "vtkCellArray",
                  "name": "_polys",
                  "numberOfComponents": 1,
                  "size": 167348,
                  "dataType": "Uint32Array"
                },
                "metadata": {
                  "name": "Geometry 0"
                }
              }
            ],
            "geometry_colors": {
              "shape": [
                1,
                3
              ],
              "dtype": "float32"
            },
            "geometry_opacities": {
              "shape": [
                1
              ],
              "dtype": "float32"
            },
            "gradient_opacity": 0.2,
            "interpolation": true,
            "label_image_blend": 0.5,
            "label_image_names": null,
            "label_image_weights": null,
            "layout": "IPY_MODEL_da6e9c87163640cf83fc6e051898fbcb",
            "lut": "glasbey",
            "mode": "v",
            "opacity_gaussians": null,
            "point_set_colors": {
              "shape": [
                0,
                3
              ],
              "dtype": "float32"
            },
            "point_set_opacities": {
              "shape": [
                0
              ],
              "dtype": "float32"
            },
            "point_set_representations": [],
            "point_set_sizes": {
              "shape": [
                0
              ],
              "dtype": "uint8"
            },
            "point_sets": [],
            "rendered_image": null,
            "rendered_label_image": null,
            "roi": {
              "shape": [
                2,
                3
              ],
              "dtype": "float64"
            },
            "rotate": false,
            "sample_distance": 0.25,
            "select_roi": false,
            "shadow": true,
            "slicing_planes": false,
            "ui_collapsed": true,
            "units": "",
            "vmax": null,
            "vmin": null,
            "x_slice": null,
            "y_slice": null,
            "z_slice": null
          }
        },
        "da6e9c87163640cf83fc6e051898fbcb": {
          "model_module": "@jupyter-widgets/base",
          "model_name": "LayoutModel",
          "model_module_version": "1.2.0",
          "state": {
            "_model_module": "@jupyter-widgets/base",
            "_model_module_version": "1.2.0",
            "_model_name": "LayoutModel",
            "_view_count": null,
            "_view_module": "@jupyter-widgets/base",
            "_view_module_version": "1.2.0",
            "_view_name": "LayoutView",
            "align_content": null,
            "align_items": null,
            "align_self": null,
            "border": null,
            "bottom": null,
            "display": null,
            "flex": null,
            "flex_flow": null,
            "grid_area": null,
            "grid_auto_columns": null,
            "grid_auto_flow": null,
            "grid_auto_rows": null,
            "grid_column": null,
            "grid_gap": null,
            "grid_row": null,
            "grid_template_areas": null,
            "grid_template_columns": null,
            "grid_template_rows": null,
            "height": null,
            "justify_content": null,
            "justify_items": null,
            "left": null,
            "margin": null,
            "max_height": null,
            "max_width": null,
            "min_height": null,
            "min_width": null,
            "object_fit": null,
            "object_position": null,
            "order": null,
            "overflow": null,
            "overflow_x": null,
            "overflow_y": null,
            "padding": null,
            "right": null,
            "top": null,
            "visibility": null,
            "width": null
          }
        },
        "9cd3c5e4824043fbb91d11705c731245": {
          "model_module": "itkwidgets",
          "model_name": "ViewerModel",
          "model_module_version": "^0.32.3",
          "state": {
            "_custom_cmap": null,
            "_dom_classes": [],
            "_downsampling": false,
            "_largest_roi": {
              "shape": [
                2,
                3
              ],
              "dtype": "float64"
            },
            "_model_module": "itkwidgets",
            "_model_module_version": "^0.32.3",
            "_model_name": "ViewerModel",
            "_rendering_image": false,
            "_reset_crop_requested": false,
            "_scale_factors": {
              "shape": [
                3
              ],
              "dtype": "uint8"
            },
            "_view_count": null,
            "_view_module": "itkwidgets",
            "_view_module_version": "^0.32.3",
            "_view_name": "ViewerView",
            "annotations": true,
            "axes": false,
            "background": [
              0.2196078431372549,
              0.2196078431372549,
              0.2196078431372549
            ],
            "blend_mode": "composite",
            "camera": {
              "shape": [
                3,
                3
              ],
              "dtype": "float32"
            },
            "channels": [],
            "clicked_slice_point": null,
            "cmap": null,
            "geometries": [
              {
                "vtkClass": "vtkPolyData",
                "points": {
                  "vtkClass": "vtkPoints",
                  "name": "_points",
                  "numberOfComponents": 3,
                  "dataType": "Float32Array",
                  "size": 63231
                },
                "polys": {
                  "vtkClass": "vtkCellArray",
                  "name": "_polys",
                  "numberOfComponents": 1,
                  "size": 167348,
                  "dataType": "Uint32Array"
                },
                "cellData": {
                  "vtkClass": "vtkDataSetAttributes",
                  "activeScalars": 0,
                  "arrays": [
                    {
                      "data": {
                        "vtkClass": "vtkDataArray",
                        "name": "Subdomains",
                        "numberOfComponents": 1,
                        "size": 41837,
                        "dataType": "Float64Array"
                      }
                    }
                  ]
                },
                "metadata": {
                  "name": "Geometry 0"
                }
              }
            ],
            "geometry_colors": {
              "shape": [
                1,
                3
              ],
              "dtype": "float32"
            },
            "geometry_opacities": {
              "shape": [
                1
              ],
              "dtype": "float32"
            },
            "gradient_opacity": 0.2,
            "interpolation": true,
            "label_image_blend": 0.5,
            "label_image_names": null,
            "label_image_weights": null,
            "layout": "IPY_MODEL_f4e96f943b74419994e8057e32e34ac2",
            "lut": "glasbey",
            "mode": "v",
            "opacity_gaussians": null,
            "point_set_colors": {
              "shape": [
                0,
                3
              ],
              "dtype": "float32"
            },
            "point_set_opacities": {
              "shape": [
                0
              ],
              "dtype": "float32"
            },
            "point_set_representations": [],
            "point_set_sizes": {
              "shape": [
                0
              ],
              "dtype": "uint8"
            },
            "point_sets": [],
            "rendered_image": null,
            "rendered_label_image": null,
            "roi": {
              "shape": [
                2,
                3
              ],
              "dtype": "float64"
            },
            "rotate": false,
            "sample_distance": 0.25,
            "select_roi": false,
            "shadow": true,
            "slicing_planes": false,
            "ui_collapsed": true,
            "units": "",
            "vmax": null,
            "vmin": null,
            "x_slice": null,
            "y_slice": null,
            "z_slice": null
          }
        },
        "f4e96f943b74419994e8057e32e34ac2": {
          "model_module": "@jupyter-widgets/base",
          "model_name": "LayoutModel",
          "model_module_version": "1.2.0",
          "state": {
            "_model_module": "@jupyter-widgets/base",
            "_model_module_version": "1.2.0",
            "_model_name": "LayoutModel",
            "_view_count": null,
            "_view_module": "@jupyter-widgets/base",
            "_view_module_version": "1.2.0",
            "_view_name": "LayoutView",
            "align_content": null,
            "align_items": null,
            "align_self": null,
            "border": null,
            "bottom": null,
            "display": null,
            "flex": null,
            "flex_flow": null,
            "grid_area": null,
            "grid_auto_columns": null,
            "grid_auto_flow": null,
            "grid_auto_rows": null,
            "grid_column": null,
            "grid_gap": null,
            "grid_row": null,
            "grid_template_areas": null,
            "grid_template_columns": null,
            "grid_template_rows": null,
            "height": null,
            "justify_content": null,
            "justify_items": null,
            "left": null,
            "margin": null,
            "max_height": null,
            "max_width": null,
            "min_height": null,
            "min_width": null,
            "object_fit": null,
            "object_position": null,
            "order": null,
            "overflow": null,
            "overflow_x": null,
            "overflow_y": null,
            "padding": null,
            "right": null,
            "top": null,
            "visibility": null,
            "width": null
          }
        },
        "4b83c9ba39d046878af2ba7cea3faff3": {
          "model_module": "itkwidgets",
          "model_name": "ViewerModel",
          "model_module_version": "^0.32.3",
          "state": {
            "_custom_cmap": null,
            "_dom_classes": [],
            "_downsampling": false,
            "_largest_roi": {
              "shape": [
                2,
                3
              ],
              "dtype": "float64"
            },
            "_model_module": "itkwidgets",
            "_model_module_version": "^0.32.3",
            "_model_name": "ViewerModel",
            "_rendering_image": false,
            "_reset_crop_requested": false,
            "_scale_factors": {
              "shape": [
                3
              ],
              "dtype": "uint8"
            },
            "_view_count": null,
            "_view_module": "itkwidgets",
            "_view_module_version": "^0.32.3",
            "_view_name": "ViewerView",
            "annotations": true,
            "axes": false,
            "background": [
              0.2196078431372549,
              0.2196078431372549,
              0.2196078431372549
            ],
            "blend_mode": "composite",
            "camera": {
              "shape": [
                3,
                3
              ],
              "dtype": "float32"
            },
            "channels": [],
            "clicked_slice_point": null,
            "cmap": null,
            "geometries": [
              {
                "vtkClass": "vtkPolyData",
                "points": {
                  "vtkClass": "vtkPoints",
                  "name": "_points",
                  "numberOfComponents": 3,
                  "dataType": "Float32Array",
                  "size": 251346
                },
                "polys": {
                  "vtkClass": "vtkCellArray",
                  "name": "_polys",
                  "numberOfComponents": 1,
                  "size": 667728,
                  "dataType": "Uint32Array"
                },
                "pointData": {
                  "vtkClass": "vtkDataSetAttributes",
                  "activeScalars": 0,
                  "arrays": [
                    {
                      "data": {
                        "vtkClass": "vtkDataArray",
                        "name": "Vector Potential",
                        "numberOfComponents": 1,
                        "size": 83782,
                        "dataType": "Float64Array"
                      }
                    }
                  ]
                },
                "metadata": {
                  "name": "Geometry 0"
                }
              }
            ],
            "geometry_colors": {
              "shape": [
                1,
                3
              ],
              "dtype": "float32"
            },
            "geometry_opacities": {
              "shape": [
                1
              ],
              "dtype": "float32"
            },
            "gradient_opacity": 0.2,
            "interpolation": true,
            "label_image_blend": 0.5,
            "label_image_names": null,
            "label_image_weights": null,
            "layout": "IPY_MODEL_3138684c27754466ba76158dc1526332",
            "lut": "glasbey",
            "mode": "v",
            "opacity_gaussians": null,
            "point_set_colors": {
              "shape": [
                0,
                3
              ],
              "dtype": "float32"
            },
            "point_set_opacities": {
              "shape": [
                0
              ],
              "dtype": "float32"
            },
            "point_set_representations": [],
            "point_set_sizes": {
              "shape": [
                0
              ],
              "dtype": "uint8"
            },
            "point_sets": [],
            "rendered_image": null,
            "rendered_label_image": null,
            "roi": {
              "shape": [
                2,
                3
              ],
              "dtype": "float64"
            },
            "rotate": false,
            "sample_distance": 0.25,
            "select_roi": false,
            "shadow": true,
            "slicing_planes": false,
            "ui_collapsed": true,
            "units": "",
            "vmax": null,
            "vmin": null,
            "x_slice": null,
            "y_slice": null,
            "z_slice": null
          }
        },
        "3138684c27754466ba76158dc1526332": {
          "model_module": "@jupyter-widgets/base",
          "model_name": "LayoutModel",
          "model_module_version": "1.2.0",
          "state": {
            "_model_module": "@jupyter-widgets/base",
            "_model_module_version": "1.2.0",
            "_model_name": "LayoutModel",
            "_view_count": null,
            "_view_module": "@jupyter-widgets/base",
            "_view_module_version": "1.2.0",
            "_view_name": "LayoutView",
            "align_content": null,
            "align_items": null,
            "align_self": null,
            "border": null,
            "bottom": null,
            "display": null,
            "flex": null,
            "flex_flow": null,
            "grid_area": null,
            "grid_auto_columns": null,
            "grid_auto_flow": null,
            "grid_auto_rows": null,
            "grid_column": null,
            "grid_gap": null,
            "grid_row": null,
            "grid_template_areas": null,
            "grid_template_columns": null,
            "grid_template_rows": null,
            "height": null,
            "justify_content": null,
            "justify_items": null,
            "left": null,
            "margin": null,
            "max_height": null,
            "max_width": null,
            "min_height": null,
            "min_width": null,
            "object_fit": null,
            "object_position": null,
            "order": null,
            "overflow": null,
            "overflow_x": null,
            "overflow_y": null,
            "padding": null,
            "right": null,
            "top": null,
            "visibility": null,
            "width": null
          }
        },
        "4a01a09427104b17af5368a8890241c0": {
          "model_module": "itkwidgets",
          "model_name": "ViewerModel",
          "model_module_version": "^0.32.3",
          "state": {
            "_custom_cmap": null,
            "_dom_classes": [],
            "_downsampling": false,
            "_largest_roi": {
              "shape": [
                2,
                3
              ],
              "dtype": "float64"
            },
            "_model_module": "itkwidgets",
            "_model_module_version": "^0.32.3",
            "_model_name": "ViewerModel",
            "_rendering_image": false,
            "_reset_crop_requested": false,
            "_scale_factors": {
              "shape": [
                3
              ],
              "dtype": "uint8"
            },
            "_view_count": null,
            "_view_module": "itkwidgets",
            "_view_module_version": "^0.32.3",
            "_view_name": "ViewerView",
            "annotations": true,
            "axes": false,
            "background": [
              0.2196078431372549,
              0.2196078431372549,
              0.2196078431372549
            ],
            "blend_mode": "composite",
            "camera": {
              "shape": [
                3,
                3
              ],
              "dtype": "float32"
            },
            "channels": [],
            "clicked_slice_point": null,
            "cmap": null,
            "geometries": [
              {
                "vtkClass": "vtkPolyData",
                "points": {
                  "vtkClass": "vtkPoints",
                  "name": "_points",
                  "numberOfComponents": 3,
                  "dataType": "Float32Array",
                  "size": 7811070
                },
                "polys": {
                  "vtkClass": "vtkCellArray",
                  "name": "_polys",
                  "numberOfComponents": 1,
                  "size": 6299250,
                  "dataType": "Uint32Array"
                },
                "pointData": {
                  "vtkClass": "vtkDataSetAttributes",
                  "activeScalars": 0,
                  "activeVectors": 1,
                  "arrays": [
                    {
                      "data": {
                        "vtkClass": "vtkDataArray",
                        "name": "GlyphScale",
                        "numberOfComponents": 1,
                        "size": 2603690,
                        "dataType": "Float32Array"
                      }
                    },
                    {
                      "data": {
                        "vtkClass": "vtkDataArray",
                        "name": "GlyphVector",
                        "numberOfComponents": 3,
                        "size": 7811070,
                        "dataType": "Float32Array"
                      }
                    }
                  ]
                },
                "metadata": {
                  "name": "Geometry 0"
                }
              },
              {
                "vtkClass": "vtkPolyData",
                "points": {
                  "vtkClass": "vtkPoints",
                  "name": "_points",
                  "numberOfComponents": 3,
                  "dataType": "Float32Array",
                  "size": 63231
                },
                "lines": {
                  "vtkClass": "vtkCellArray",
                  "name": "_lines",
                  "numberOfComponents": 1,
                  "size": 188739,
                  "dataType": "Uint32Array"
                },
                "metadata": {
                  "name": "Geometry 1"
                }
              }
            ],
            "geometry_colors": {
              "shape": [
                2,
                3
              ],
              "dtype": "float32"
            },
            "geometry_opacities": {
              "shape": [
                2
              ],
              "dtype": "float32"
            },
            "gradient_opacity": 0.2,
            "interpolation": true,
            "label_image_blend": 0.5,
            "label_image_names": null,
            "label_image_weights": null,
            "layout": "IPY_MODEL_7c1644b74dfd4f59a366fd12fa40e612",
            "lut": "glasbey",
            "mode": "v",
            "opacity_gaussians": null,
            "point_set_colors": {
              "shape": [
                0,
                3
              ],
              "dtype": "float32"
            },
            "point_set_opacities": {
              "shape": [
                0
              ],
              "dtype": "float32"
            },
            "point_set_representations": [],
            "point_set_sizes": {
              "shape": [
                0
              ],
              "dtype": "uint8"
            },
            "point_sets": [],
            "rendered_image": null,
            "rendered_label_image": null,
            "roi": {
              "shape": [
                2,
                3
              ],
              "dtype": "float64"
            },
            "rotate": false,
            "sample_distance": 0.25,
            "select_roi": false,
            "shadow": true,
            "slicing_planes": false,
            "ui_collapsed": true,
            "units": "",
            "vmax": null,
            "vmin": null,
            "x_slice": null,
            "y_slice": null,
            "z_slice": null
          }
        },
        "7c1644b74dfd4f59a366fd12fa40e612": {
          "model_module": "@jupyter-widgets/base",
          "model_name": "LayoutModel",
          "model_module_version": "1.2.0",
          "state": {
            "_model_module": "@jupyter-widgets/base",
            "_model_module_version": "1.2.0",
            "_model_name": "LayoutModel",
            "_view_count": null,
            "_view_module": "@jupyter-widgets/base",
            "_view_module_version": "1.2.0",
            "_view_name": "LayoutView",
            "align_content": null,
            "align_items": null,
            "align_self": null,
            "border": null,
            "bottom": null,
            "display": null,
            "flex": null,
            "flex_flow": null,
            "grid_area": null,
            "grid_auto_columns": null,
            "grid_auto_flow": null,
            "grid_auto_rows": null,
            "grid_column": null,
            "grid_gap": null,
            "grid_row": null,
            "grid_template_areas": null,
            "grid_template_columns": null,
            "grid_template_rows": null,
            "height": null,
            "justify_content": null,
            "justify_items": null,
            "left": null,
            "margin": null,
            "max_height": null,
            "max_width": null,
            "min_height": null,
            "min_width": null,
            "object_fit": null,
            "object_position": null,
            "order": null,
            "overflow": null,
            "overflow_x": null,
            "overflow_y": null,
            "padding": null,
            "right": null,
            "top": null,
            "visibility": null,
            "width": null
          }
        }
      }
    }
  },
  "cells": [
    {
      "cell_type": "markdown",
      "metadata": {
        "id": "view-in-github",
        "colab_type": "text"
      },
      "source": [
        "<a href=\"https://colab.research.google.com/github/Mitchell7777/Mitchell-s-physics-stuff/blob/master/Midterm%20Project.ipynb\" target=\"_parent\"><img src=\"https://colab.research.google.com/assets/colab-badge.svg\" alt=\"Open In Colab\"/></a>"
      ]
    },
    {
      "cell_type": "markdown",
      "source": [
        "# Midterm Project\n",
        "# Cross-Section of a Wire Line and It's B-Field in 3D space\n",
        "# By Mitchell Wright"
      ],
      "metadata": {
        "id": "irfNzARny04Y"
      }
    },
    {
      "cell_type": "code",
      "source": [
        "try:\n",
        "    # Import gmsh library for generating meshes.\n",
        "    import gmsh\n",
        "except ImportError:\n",
        "    # If it is not available, install it.  Then import it.\n",
        "    !wget \"https://fem-on-colab.github.io/releases/gmsh-install.sh\" -O \"/tmp/gmsh-install.sh\" && bash \"/tmp/gmsh-install.sh\"\n",
        "    import gmsh"
      ],
      "metadata": {
        "id": "7EUMPSN5-gkh"
      },
      "execution_count": 4,
      "outputs": []
    },
    {
      "cell_type": "code",
      "execution_count": 5,
      "metadata": {
        "id": "VuFYkaJbzrom"
      },
      "outputs": [],
      "source": [
        "try:\n",
        "    # Import FEniCSx libraries for finite element analysis.\n",
        "    import dolfinx\n",
        "except ImportError:\n",
        "    # If they are not found, install them.  Then import them.\n",
        "    !wget \"https://fem-on-colab.github.io/releases/fenicsx-install-real.sh\" -O \"/tmp/fenicsx-install.sh\" && bash \"/tmp/fenicsx-install.sh\"\n",
        "    import dolfinx"
      ]
    },
    {
      "cell_type": "code",
      "source": [
        "try:\n",
        "    # Import multiphenicsx, mainly for plotting.\n",
        "    import multiphenicsx\n",
        "except ImportError:\n",
        "    # If they are not found, install them.\n",
        "    !pip3 install \"multiphenicsx@git+https://github.com/multiphenics/multiphenicsx.git@8b97b4e\"\n",
        "    import multiphenicsx"
      ],
      "metadata": {
        "id": "WbKnhYd_hJHf"
      },
      "execution_count": 6,
      "outputs": []
    },
    {
      "cell_type": "code",
      "source": [
        "# Everything should be installed now.\n",
        "# Import the rest of what we need.\n",
        "\n",
        "import dolfinx.fem\n",
        "import dolfinx.io\n",
        "import gmsh\n",
        "import mpi4py.MPI\n",
        "import numpy as np\n",
        "import petsc4py.PETSc\n",
        "import ufl\n",
        "import multiphenicsx.fem\n",
        "import multiphenicsx.io"
      ],
      "metadata": {
        "id": "QbcHvDwImO1j"
      },
      "execution_count": 7,
      "outputs": []
    },
    {
      "cell_type": "code",
      "source": [
        "## Adjust this cell to change the geometry:\n",
        "# Specify sizes of the objects\n",
        "# and adjust material properties.\n",
        "\n",
        "# Geometric dimension of the mesh\n",
        "dim = 2\n",
        "\n",
        "## Background\n",
        "# Radius of the entire domain\n",
        "r_background = 25\n",
        "\n",
        "# Magnetic permeability (relative) of background medium\n",
        "mu_background = 1\n",
        "\n",
        "\n",
        "## Wires\n",
        "# Radius of individual wires\n",
        "r_wire = 0.1\n",
        "\n",
        "# Location of centers of inner and outer rings of wires.\n",
        "centers_inner = 0.8 \n",
        "centers_outer = 1.4 \n",
        "\n",
        "# Number of wires.\n",
        "N = 12\n",
        "\n",
        "# Magnetic permeability (relative) of wires.\n",
        "mu_wire = 25\n",
        "\n",
        "# Current density in each wire.\n",
        "J0 = 5.0\n",
        "\n",
        "\n",
        "## Ring\n",
        "# Inner and outer radii of ring\n",
        "ring_inner = 1\n",
        "ring_outer = 2\n",
        "\n",
        "#Circle 1\n",
        "r_ring_x = 10\n",
        "r_ring_y = 10\n",
        "r_ring_z = 0\n",
        "\n",
        "#Circle 2\n",
        "r2_ring_x = -10\n",
        "r2_ring_y = -10\n",
        "r2_ring_z = 0\n",
        "\n",
        "#Circle 3\n",
        "r3_ring_x = 10\n",
        "r3_ring_y = -10\n",
        "r3_ring_z = 0\n",
        "\n",
        "# Magnetic permeability (relative) of ring.\n",
        "mu_ring = 100"
      ],
      "metadata": {
        "id": "4KundBkup_nJ"
      },
      "execution_count": 8,
      "outputs": []
    },
    {
      "cell_type": "code",
      "source": [
        "# Create a model.\n",
        "gmsh.initialize()\n",
        "gmsh.model.add(\"mesh\")\n",
        "\n",
        "# Define the system: a large disk.\n",
        "background = gmsh.model.occ.addDisk(0, 0, 0, r_background, r_background)\n",
        "\n",
        "# Define geometry for the ring.\n",
        "outer_ring = gmsh.model.occ.addCircle(r_ring_x, r_ring_y, r_ring_z, ring_outer)\n",
        "inner_ring = gmsh.model.occ.addCircle(r_ring_x, r_ring_y, r_ring_z, ring_inner)\n",
        "gmsh.model.occ.addCurveLoop([outer_ring], 5)\n",
        "gmsh.model.occ.addCurveLoop([inner_ring], 6)\n",
        "ring1 = gmsh.model.occ.addPlaneSurface([5, 6])\n",
        "\n",
        "# Define geometry for the ring.\n",
        "outer_ring = gmsh.model.occ.addCircle(r2_ring_x, r2_ring_y, r2_ring_z, ring_outer)\n",
        "inner_ring = gmsh.model.occ.addCircle(r2_ring_x, r2_ring_y, r2_ring_z, ring_inner)\n",
        "gmsh.model.occ.addCurveLoop([outer_ring], 7)\n",
        "gmsh.model.occ.addCurveLoop([inner_ring], 8)\n",
        "ring2 = gmsh.model.occ.addPlaneSurface([7, 8])\n",
        "\n",
        "# Define geometry for the ring.\n",
        "outer_ring = gmsh.model.occ.addCircle(r3_ring_x, r3_ring_y, r3_ring_z, ring_outer)\n",
        "inner_ring = gmsh.model.occ.addCircle(r3_ring_x, r3_ring_y, r3_ring_z, ring_inner)\n",
        "gmsh.model.occ.addCurveLoop([outer_ring], 9)\n",
        "gmsh.model.occ.addCurveLoop([inner_ring], 10)\n",
        "ring3 = gmsh.model.occ.addPlaneSurface([9, 10])\n",
        "\n",
        "# Create two list of circular disks to represent the wires.\n",
        "# Define the wires inside the ring.\n",
        "angles_in = [n * 2*np.pi/N for n in range(N)]\n",
        "wires_in = [(2,\n",
        "            gmsh.model.occ.addDisk(centers_inner * np.cos(v),\n",
        "            centers_inner * np.sin(v), 0, r_wire, r_wire))\n",
        "            for v in angles_in]\n",
        "\n",
        "# Define the wires outside the ring.\n",
        "angles_out = [(n + 0.5) * 2*np.pi/N for n in range(N)]\n",
        "wires_out = [(2,\n",
        "            gmsh.model.occ.addDisk(centers_outer * np.cos(v),\n",
        "            centers_outer * np.sin(v), 0, r_wire, r_wire))\n",
        "            for v in angles_out]\n",
        "\n",
        "# Update the model.\n",
        "gmsh.model.occ.synchronize()\n",
        "\n",
        "# Resolve the boundaries of the wires and ring in the background domain.\n",
        "all_surfaces = [(2, ring1), (2,ring2), (2,ring3)]\n",
        "all_surfaces.extend(wires_in)\n",
        "all_surfaces.extend(wires_out)\n",
        "whole_domain = gmsh.model.occ.fragment([(2, background)], all_surfaces)\n",
        "\n",
        "# Update the model.\n",
        "gmsh.model.occ.synchronize()\n",
        "\n",
        "# Create physical markers for each object.\n",
        "# Use the following markers:\n",
        "# - Vacuum: 0\n",
        "# - Ring: 1\n",
        "# - Inner wires: $[2,3,\\dots,N+1]$\n",
        "# - Outer wires: $[N+2,\\dots, 2\\cdot N+1]$\n",
        "inner_tag = 20\n",
        "outer_tag = 20 + N\n",
        "background_surfaces = []\n",
        "other_surfaces = []\n",
        "\n",
        "# Gmsh can compute the mass of objects and the location of their\n",
        "# centers of mass.  This loop uses these properties to determine\n",
        "# which object to associate grid points with.\n",
        "# \n",
        "# We will use these tags to define material properties later.\n",
        "for domain in whole_domain[0]:\n",
        "    center = gmsh.model.occ.getCenterOfMass(domain[0], domain[1])\n",
        "    mass = gmsh.model.occ.getMass(domain[0], domain[1])\n",
        "\n",
        "    # Identify the background circle by its center of mass\n",
        "    if np.isclose(mass, np.pi*(ring_outer**2 - ring_inner**2 )) and np.allclose(center, [r_ring_x, r_ring_y, 0]):\n",
        "        gmsh.model.addPhysicalGroup(domain[0], [domain[1]], tag=101)\n",
        "        other_surfaces.append(domain)\n",
        "\n",
        "    # Identify the background circle by its center of mass\n",
        "    elif np.isclose(mass, np.pi*(ring_outer**2 - ring_inner**2 )) and np.allclose(center, [r2_ring_x, r2_ring_y, 0]):\n",
        "        gmsh.model.addPhysicalGroup(domain[0], [domain[1]], tag=102)\n",
        "        other_surfaces.append(domain)\n",
        "\n",
        "    # Identify the background circle by its center of mass\n",
        "    elif np.isclose(mass, np.pi*(ring_outer**2 - ring_inner**2 )) and  np.allclose(center, [r3_ring_x, r3_ring_y, 0]):\n",
        "        gmsh.model.addPhysicalGroup(domain[0], [domain[1]], tag=103)\n",
        "        other_surfaces.append(domain)\n",
        "\n",
        "    # Identify the inner wires by their centers of mass.\n",
        "    elif np.isclose(np.linalg.norm(center), centers_inner):\n",
        "        gmsh.model.addPhysicalGroup(domain[0], [domain[1]], inner_tag)\n",
        "        inner_tag +=1\n",
        "        other_surfaces.append(domain)\n",
        "\n",
        "    # Identify the outer wires by their center of mass.\n",
        "    elif np.isclose(np.linalg.norm(center), centers_outer):\n",
        "        gmsh.model.addPhysicalGroup(domain[0], [domain[1]], outer_tag)\n",
        "        outer_tag +=1\n",
        "        other_surfaces.append(domain)\n",
        "    \n",
        "    else:\n",
        "        background_surfaces.append(domain[1])\n",
        "\n",
        "# Add marker for the vacuum.\n",
        "gmsh.model.addPhysicalGroup(2, background_surfaces, tag=0)\n",
        "\n",
        "# Create mesh resolution that is fine around the wires and\n",
        "# make the grid coarse further away from the ring.\n",
        "gmsh.model.mesh.field.add(\"Distance\", 1)\n",
        "edges = gmsh.model.getBoundary(other_surfaces, oriented=False)\n",
        "gmsh.model.mesh.field.setNumbers(1, \"EdgesList\", [e[1] for e in edges])\n",
        "gmsh.model.mesh.field.add(\"Threshold\", 2)\n",
        "gmsh.model.mesh.field.setNumber(2, \"IField\", 1)\n",
        "gmsh.model.mesh.field.setNumber(2, \"LcMin\", r_wire / 2)\n",
        "gmsh.model.mesh.field.setNumber(2, \"LcMax\", 5 * r_wire)\n",
        "gmsh.model.mesh.field.setNumber(2, \"DistMin\", 2 * r_wire)\n",
        "gmsh.model.mesh.field.setNumber(2, \"DistMax\", 4 * r_wire)\n",
        "gmsh.model.mesh.field.setAsBackgroundMesh(2)\n",
        "gmsh.option.setNumber(\"Mesh.Algorithm\", 7)\n",
        "\n",
        "# Create a mesh for this system.\n",
        "gmsh.model.mesh.generate(dim)\n",
        "\n",
        "# Bring the mesh into FEniCSx.\n",
        "mesh, subdomains, boundaries = dolfinx.io.gmshio.model_to_mesh(\n",
        "    gmsh.model, comm=mpi4py.MPI.COMM_WORLD, rank=0, gdim=2)\n",
        "\n",
        "gmsh.finalize()"
      ],
      "metadata": {
        "id": "WMF_BbU8dCyM"
      },
      "execution_count": 9,
      "outputs": []
    },
    {
      "cell_type": "code",
      "source": [
        "# Plot the entire mesh.\n",
        "multiphenicsx.io.plot_mesh(mesh)"
      ],
      "metadata": {
        "colab": {
          "base_uri": "https://localhost:8080/",
          "referenced_widgets": [
            "dbb205f52cd549e2b40f664bf646dc3d",
            "da6e9c87163640cf83fc6e051898fbcb"
          ],
          "height": 717
        },
        "id": "F2gto5GKrhJM",
        "outputId": "0290776a-2eec-490b-f621-ccfb4b25e95f"
      },
      "execution_count": 10,
      "outputs": [
        {
          "output_type": "display_data",
          "data": {
            "text/plain": [
              "Viewer(geometries=[{'vtkClass': 'vtkPolyData', 'points': {'vtkClass': 'vtkPoints', 'name': '_points', 'numberO…"
            ],
            "application/vnd.jupyter.widget-view+json": {
              "version_major": 2,
              "version_minor": 0,
              "model_id": "dbb205f52cd549e2b40f664bf646dc3d"
            }
          },
          "metadata": {
            "application/vnd.jupyter.widget-view+json": {
              "colab": {
                "custom_widget_manager": {
                  "url": "https://ssl.gstatic.com/colaboratory-static/widgets/colab-cdn-widget-manager/d2e234f7cc04bf79/manager.min.js"
                }
              }
            }
          }
        },
        {
          "output_type": "display_data",
          "data": {
            "text/plain": [
              "Viewer(geometries=[{'vtkClass': 'vtkPolyData', 'points': {'vtkClass': 'vtkPoints', 'name': '_points', 'numberO…"
            ],
            "application/vnd.jupyter.widget-view+json": {
              "version_major": 2,
              "version_minor": 0,
              "model_id": "dbb205f52cd549e2b40f664bf646dc3d"
            }
          },
          "metadata": {
            "application/vnd.jupyter.widget-view+json": {
              "colab": {
                "custom_widget_manager": {
                  "url": "https://ssl.gstatic.com/colaboratory-static/widgets/colab-cdn-widget-manager/d2e234f7cc04bf79/manager.min.js"
                }
              }
            }
          }
        }
      ]
    },
    {
      "cell_type": "code",
      "source": [
        "# Plot the subdomains that FEniCSx has identified.\n",
        "# There should only be one for this model.\n",
        "multiphenicsx.io.plot_mesh_tags(subdomains)"
      ],
      "metadata": {
        "colab": {
          "base_uri": "https://localhost:8080/",
          "referenced_widgets": [
            "9cd3c5e4824043fbb91d11705c731245",
            "f4e96f943b74419994e8057e32e34ac2"
          ],
          "height": 717
        },
        "id": "Xx0VzMfBrhJM",
        "outputId": "e35634a6-0a85-4143-a729-3aa9ba8c16c9"
      },
      "execution_count": 11,
      "outputs": [
        {
          "output_type": "display_data",
          "data": {
            "text/plain": [
              "Viewer(geometries=[{'vtkClass': 'vtkPolyData', 'points': {'vtkClass': 'vtkPoints', 'name': '_points', 'numberO…"
            ],
            "application/vnd.jupyter.widget-view+json": {
              "version_major": 2,
              "version_minor": 0,
              "model_id": "9cd3c5e4824043fbb91d11705c731245"
            }
          },
          "metadata": {
            "application/vnd.jupyter.widget-view+json": {
              "colab": {
                "custom_widget_manager": {
                  "url": "https://ssl.gstatic.com/colaboratory-static/widgets/colab-cdn-widget-manager/d2e234f7cc04bf79/manager.min.js"
                }
              }
            }
          }
        },
        {
          "output_type": "display_data",
          "data": {
            "text/plain": [
              "Viewer(geometries=[{'vtkClass': 'vtkPolyData', 'points': {'vtkClass': 'vtkPoints', 'name': '_points', 'numberO…"
            ],
            "application/vnd.jupyter.widget-view+json": {
              "version_major": 2,
              "version_minor": 0,
              "model_id": "9cd3c5e4824043fbb91d11705c731245"
            }
          },
          "metadata": {
            "application/vnd.jupyter.widget-view+json": {
              "colab": {
                "custom_widget_manager": {
                  "url": "https://ssl.gstatic.com/colaboratory-static/widgets/colab-cdn-widget-manager/d2e234f7cc04bf79/manager.min.js"
                }
              }
            }
          }
        }
      ]
    },
    {
      "cell_type": "code",
      "source": [
        "# This loop will assign material properties to each cell in our model.\n",
        "# In this case, it is the relative magnetic permeability and current density.\n",
        "\n",
        "# Define a simple function space for properties.\n",
        "Q = dolfinx.fem.FunctionSpace(mesh, (\"DG\", 0))\n",
        "\n",
        "# Get the list of materials.\n",
        "material_tags = np.unique(subdomains.values)\n",
        "\n",
        "# Define functions for current density and magnetic permeability.\n",
        "mu = dolfinx.fem.Function(Q)\n",
        "J = dolfinx.fem.Function(Q)\n",
        "\n",
        "# Only some regions carry current. Initialize all current densities to zero.\n",
        "J.x.array[:] = 0.0\n",
        "\n",
        "# Now, cycle over all objects and assign material properties. \n",
        "for tag in material_tags:\n",
        "    cells = subdomains.find(tag)\n",
        "    \n",
        "    # Set values for magnetic permeability.\n",
        "    if tag == 0:\n",
        "        # Vacuum\n",
        "        mu_ = mu_background\n",
        "    elif tag == 1:\n",
        "        # Ring\n",
        "        mu_ = mu_ring\n",
        "    else:\n",
        "        # Wire\n",
        "        mu_ = mu_wire\n",
        "\n",
        "    mu.x.array[cells] = np.full_like(cells, mu_, dtype=petsc4py.PETSc.ScalarType)\n",
        "    \n",
        "    # Set nonzero current densities.\n",
        "    if tag in range(2, 2+N):\n",
        "        J.x.array[cells] = np.full_like(cells, J0, dtype=petsc4py.PETSc.ScalarType)\n",
        "    elif tag in range(2+N, 2*N + 2):\n",
        "        J.x.array[cells] = np.full_like(cells, -J0, dtype=petsc4py.PETSc.ScalarType)"
      ],
      "metadata": {
        "id": "NWzMA3MQdXv0"
      },
      "execution_count": 12,
      "outputs": []
    },
    {
      "cell_type": "code",
      "source": [
        "## Set up the finite element problem.\n",
        "\n",
        "# Define trial and test functions.\n",
        "V = dolfinx.fem.FunctionSpace(mesh, (\"Lagrange\", 2))\n",
        "\n",
        "# Define the trial and test functions.\n",
        "u = ufl.TrialFunction(V)\n",
        "v = ufl.TestFunction(V)\n",
        "\n",
        "# Create a function to store the solution.\n",
        "# This is the vector potential.  A_x = A_y = 0.\n",
        "A_z = dolfinx.fem.Function(V)\n",
        "\n",
        "# Identify the domain and boundary.\n",
        "D = mesh.topology.dim\n",
        "Omega = dolfinx.mesh.locate_entities_boundary(mesh, D-1, lambda x: np.full(x.shape[1], True))\n",
        "dOmega = dolfinx.fem.locate_dofs_topological(V, D-1, Omega)\n",
        "\n",
        "# Force the potential to vanish on the boundary.\n",
        "bc = dolfinx.fem.dirichletbc(petsc4py.PETSc.ScalarType(0), dOmega, V)\n",
        "\n",
        "# Define the Poisson equation we are trying to solve.\n",
        "a = (1 / mu) * ufl.inner(ufl.grad(u), ufl.grad(v)) * ufl.dx\n",
        "L = 4 * ufl.pi * J * v * ufl.dx\n",
        "\n",
        "# Define the problem.\n",
        "problem = dolfinx.fem.petsc.LinearProblem(a, L, u=A_z, bcs=[bc])\n",
        "\n",
        "# Solve the problem.\n",
        "problem.solve()"
      ],
      "metadata": {
        "id": "BCkf3RavecLA",
        "outputId": "759ff534-b00e-4604-d0a6-79b193d8d22b",
        "colab": {
          "base_uri": "https://localhost:8080/"
        }
      },
      "execution_count": 13,
      "outputs": [
        {
          "output_type": "execute_result",
          "data": {
            "text/plain": [
              "Coefficient(FunctionSpace(Mesh(VectorElement(Basix element (P, triangle, 1, equispaced, unset, False), 2), 0), Basix element (P, triangle, 2, gll_warped, unset, False)), 2)"
            ]
          },
          "metadata": {},
          "execution_count": 13
        }
      ]
    },
    {
      "cell_type": "code",
      "source": [
        "# Compute the magnetic field.\n",
        "W = dolfinx.fem.VectorFunctionSpace(mesh, (\"CG\", 2))\n",
        "B = dolfinx.fem.Function(W)\n",
        "B_expr = dolfinx.fem.Expression(ufl.as_vector((A_z.dx(1), -A_z.dx(0))), W.element.interpolation_points())\n",
        "B.interpolate(B_expr)"
      ],
      "metadata": {
        "id": "6s_DnHRIeipN"
      },
      "execution_count": 14,
      "outputs": []
    },
    {
      "cell_type": "code",
      "source": [
        "# Plot the vector potential.\n",
        "multiphenicsx.io.plot_scalar_field(A_z,\"Vector Potential\", warp_factor=2)"
      ],
      "metadata": {
        "id": "I3LLHcRdeumt",
        "outputId": "a6471501-1ca1-4349-9c37-843c15ecd1ef",
        "colab": {
          "base_uri": "https://localhost:8080/",
          "height": 717,
          "referenced_widgets": [
            "4b83c9ba39d046878af2ba7cea3faff3",
            "3138684c27754466ba76158dc1526332"
          ]
        }
      },
      "execution_count": 32,
      "outputs": [
        {
          "output_type": "display_data",
          "data": {
            "text/plain": [
              "Viewer(geometries=[{'vtkClass': 'vtkPolyData', 'points': {'vtkClass': 'vtkPoints', 'name': '_points', 'numberO…"
            ],
            "application/vnd.jupyter.widget-view+json": {
              "version_major": 2,
              "version_minor": 0,
              "model_id": "4b83c9ba39d046878af2ba7cea3faff3"
            }
          },
          "metadata": {
            "application/vnd.jupyter.widget-view+json": {
              "colab": {
                "custom_widget_manager": {
                  "url": "https://ssl.gstatic.com/colaboratory-static/widgets/colab-cdn-widget-manager/d2e234f7cc04bf79/manager.min.js"
                }
              }
            }
          }
        },
        {
          "output_type": "display_data",
          "data": {
            "text/plain": [
              "Viewer(geometries=[{'vtkClass': 'vtkPolyData', 'points': {'vtkClass': 'vtkPoints', 'name': '_points', 'numberO…"
            ],
            "application/vnd.jupyter.widget-view+json": {
              "version_major": 2,
              "version_minor": 0,
              "model_id": "4b83c9ba39d046878af2ba7cea3faff3"
            }
          },
          "metadata": {
            "application/vnd.jupyter.widget-view+json": {
              "colab": {
                "custom_widget_manager": {
                  "url": "https://ssl.gstatic.com/colaboratory-static/widgets/colab-cdn-widget-manager/d2e234f7cc04bf79/manager.min.js"
                }
              }
            }
          }
        }
      ]
    },
    {
      "cell_type": "code",
      "source": [
        "# Plot the magnetic field.\n",
        "multiphenicsx.io.plot_vector_field(B,\"Magnetic Field\", glyph_factor=0.4)"
      ],
      "metadata": {
        "id": "3ZlxAwyBe479",
        "outputId": "9ed99797-25ed-481e-8382-dab0dffbe4b0",
        "colab": {
          "base_uri": "https://localhost:8080/",
          "height": 717,
          "referenced_widgets": [
            "4a01a09427104b17af5368a8890241c0",
            "7c1644b74dfd4f59a366fd12fa40e612"
          ]
        }
      },
      "execution_count": 15,
      "outputs": [
        {
          "output_type": "display_data",
          "data": {
            "text/plain": [
              "Viewer(geometries=[{'vtkClass': 'vtkPolyData', 'points': {'vtkClass': 'vtkPoints', 'name': '_points', 'numberO…"
            ],
            "application/vnd.jupyter.widget-view+json": {
              "version_major": 2,
              "version_minor": 0,
              "model_id": "4a01a09427104b17af5368a8890241c0"
            }
          },
          "metadata": {
            "application/vnd.jupyter.widget-view+json": {
              "colab": {
                "custom_widget_manager": {
                  "url": "https://ssl.gstatic.com/colaboratory-static/widgets/colab-cdn-widget-manager/d2e234f7cc04bf79/manager.min.js"
                }
              }
            }
          }
        },
        {
          "output_type": "display_data",
          "data": {
            "text/plain": [
              "Viewer(geometries=[{'vtkClass': 'vtkPolyData', 'points': {'vtkClass': 'vtkPoints', 'name': '_points', 'numberO…"
            ],
            "application/vnd.jupyter.widget-view+json": {
              "version_major": 2,
              "version_minor": 0,
              "model_id": "4a01a09427104b17af5368a8890241c0"
            }
          },
          "metadata": {
            "application/vnd.jupyter.widget-view+json": {
              "colab": {
                "custom_widget_manager": {
                  "url": "https://ssl.gstatic.com/colaboratory-static/widgets/colab-cdn-widget-manager/d2e234f7cc04bf79/manager.min.js"
                }
              }
            }
          }
        }
      ]
    }
  ]
}