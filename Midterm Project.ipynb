{
  "nbformat": 4,
  "nbformat_minor": 0,
  "metadata": {
    "colab": {
      "provenance": [],
      "authorship_tag": "ABX9TyPMF8TA3gqTuc8e8wjy9jhc",
      "include_colab_link": true
    },
    "kernelspec": {
      "name": "python3",
      "display_name": "Python 3"
    },
    "language_info": {
      "name": "python"
    }
  },
  "cells": [
    {
      "cell_type": "markdown",
      "metadata": {
        "id": "view-in-github",
        "colab_type": "text"
      },
      "source": [
        "<a href=\"https://colab.research.google.com/github/Mitchell7777/Mitchell-s-physics-stuff/blob/master/Midterm%20Project.ipynb\" target=\"_parent\"><img src=\"https://colab.research.google.com/assets/colab-badge.svg\" alt=\"Open In Colab\"/></a>"
      ]
    },
    {
      "cell_type": "markdown",
      "source": [
        "# Midterm Project\n",
        "# A soloniod and its E Field in 3D space\n",
        "# By Mitchell Wright"
      ],
      "metadata": {
        "id": "irfNzARny04Y"
      }
    },
    {
      "cell_type": "code",
      "source": [
        "try:\n",
        "    # Import gmsh library for generating meshes.\n",
        "    import gmsh\n",
        "except ImportError:\n",
        "    # If it is not available, install it.  Then import it.\n",
        "    !wget \"https://fem-on-colab.github.io/releases/gmsh-install.sh\" -O \"/tmp/gmsh-install.sh\" && bash \"/tmp/gmsh-install.sh\"\n",
        "    import gmsh"
      ],
      "metadata": {
        "id": "7EUMPSN5-gkh"
      },
      "execution_count": null,
      "outputs": []
    },
    {
      "cell_type": "code",
      "execution_count": null,
      "metadata": {
        "id": "VuFYkaJbzrom"
      },
      "outputs": [],
      "source": [
        "try:\n",
        "    # Import FEniCSx libraries for finite element analysis.\n",
        "    import dolfinx\n",
        "except ImportError:\n",
        "    # If they are not found, install them.  Then import them.\n",
        "    !wget \"https://fem-on-colab.github.io/releases/fenicsx-install-real.sh\" -O \"/tmp/fenicsx-install.sh\" && bash \"/tmp/fenicsx-install.sh\"\n",
        "    import dolfinx"
      ]
    },
    {
      "cell_type": "code",
      "source": [
        "try:\n",
        "    # Import multiphenicsx, mainly for plotting.\n",
        "    import multiphenicsx\n",
        "except ImportError:\n",
        "    # If they are not found, install them.\n",
        "    !pip3 install \"multiphenicsx@git+https://github.com/multiphenics/multiphenicsx.git@8b97b4e\"\n",
        "    import multiphenicsx"
      ],
      "metadata": {
        "id": "WbKnhYd_hJHf"
      },
      "execution_count": null,
      "outputs": []
    },
    {
      "cell_type": "code",
      "source": [
        "# Everything should be installed now.\n",
        "# Import the rest of what we need.\n",
        "\n",
        "import dolfinx.fem\n",
        "import dolfinx.io\n",
        "import gmsh\n",
        "import mpi4py.MPI\n",
        "import numpy as np\n",
        "import petsc4py.PETSc\n",
        "import ufl\n",
        "import multiphenicsx.fem\n",
        "import multiphenicsx.io"
      ],
      "metadata": {
        "id": "QbcHvDwImO1j"
      },
      "execution_count": 5,
      "outputs": []
    }
  ]
}